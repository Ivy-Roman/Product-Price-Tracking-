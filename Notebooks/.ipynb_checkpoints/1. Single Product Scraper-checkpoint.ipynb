{
 "cells": [
  {
   "cell_type": "code",
   "execution_count": 13,
   "id": "817c908e",
   "metadata": {},
   "outputs": [],
   "source": [
    "import requests\n",
    "from requests_html import HTML\n",
    "from selenium import webdriver\n",
    "from selenium.webdriver.chrome.options import Options\n",
    "from selenium.webdriver.common.by import By"
   ]
  },
  {
   "cell_type": "code",
   "execution_count": 14,
   "id": "f30c235f",
   "metadata": {},
   "outputs": [],
   "source": [
    "options =  Options()\n",
    "options.add_argument('--headless')\n",
    "\n",
    "driver = webdriver.Chrome(options=options)"
   ]
  },
  {
   "cell_type": "code",
   "execution_count": 15,
   "id": "fbefb88d",
   "metadata": {},
   "outputs": [],
   "source": [
    "url ='https://www.amazon.com/Sunny-Health-Fitness-Exercise-Stationary/dp/B0090VYHMC/ref=sr_1_6?crid=2NDD35UGT1S7K&keywords=sunny+health+and+fitness+pro+indoor+cycling+bike&qid=1648568999&sprefix=fitness+pro+indoor+cycl%2Caps%2C404&sr=8-6'\n",
    "title_lookup = '#productTitle'\n",
    "price_lookup = '.a-offscreen'"
   ]
  },
  {
   "cell_type": "code",
   "execution_count": 16,
   "id": "3e028890",
   "metadata": {},
   "outputs": [],
   "source": [
    "# requests not working\n",
    "# r = requests.get(url)\n",
    "# html_str = r.text"
   ]
  },
  {
   "cell_type": "code",
   "execution_count": 18,
   "id": "0ef37bfe",
   "metadata": {},
   "outputs": [],
   "source": [
    "# print(html_str)\n",
    "driver.get(url)\n",
    "body_el = driver.find_element(by=By.CSS_SELECTOR, value='body')\n",
    "html_str = body_el.get_attribute('innerHTML')\n",
    "# print(html_str)"
   ]
  },
  {
   "cell_type": "code",
   "execution_count": 19,
   "id": "5c509a07",
   "metadata": {},
   "outputs": [],
   "source": [
    "html_obj = HTML(html=html_str)"
   ]
  },
  {
   "cell_type": "code",
   "execution_count": 22,
   "id": "8bc957ad",
   "metadata": {},
   "outputs": [],
   "source": [
    "product_title = html_obj.find(title_lookup, first=True).text"
   ]
  },
  {
   "cell_type": "code",
   "execution_count": 25,
   "id": "4acf127f",
   "metadata": {},
   "outputs": [],
   "source": [
    "product_price = html_obj.find(price_lookup, first=True).text"
   ]
  },
  {
   "cell_type": "code",
   "execution_count": 26,
   "id": "695dfb03",
   "metadata": {},
   "outputs": [
    {
     "name": "stdout",
     "output_type": "stream",
     "text": [
      "Sunny Health & Fitness Indoor Cycle Exercise Bike with Heavy Chrome 49 LB / 22 LB Flywheel $160.23\n"
     ]
    }
   ],
   "source": [
    "print(product_title, product_price)"
   ]
  },
  {
   "cell_type": "code",
   "execution_count": null,
   "id": "f8461785",
   "metadata": {},
   "outputs": [],
   "source": []
  }
 ],
 "metadata": {
  "kernelspec": {
   "display_name": "Python 3 (ipykernel)",
   "language": "python",
   "name": "python3"
  },
  "language_info": {
   "codemirror_mode": {
    "name": "ipython",
    "version": 3
   },
   "file_extension": ".py",
   "mimetype": "text/x-python",
   "name": "python",
   "nbconvert_exporter": "python",
   "pygments_lexer": "ipython3",
   "version": "3.10.1"
  }
 },
 "nbformat": 4,
 "nbformat_minor": 5
}
