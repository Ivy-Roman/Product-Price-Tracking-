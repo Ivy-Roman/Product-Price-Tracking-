{
 "cells": [
  {
   "cell_type": "code",
   "execution_count": 1,
   "id": "817c908e",
   "metadata": {},
   "outputs": [],
   "source": [
    "from pathlib import Path\n",
    "import os\n",
    "import pandas as pd\n",
    "import re\n",
    "import requests\n",
    "import time\n",
    "import datetime\n",
    "from requests_html import HTML\n",
    "from selenium import webdriver\n",
    "from selenium.webdriver.chrome.options import Options\n",
    "from selenium.webdriver.common.by import By"
   ]
  },
  {
   "cell_type": "code",
   "execution_count": 2,
   "id": "d1b48302",
   "metadata": {},
   "outputs": [],
   "source": [
    "#BASE_DIR = os.path.dirname(os.path.abspath(__file__))\n",
    "# BASE_DIR = Path.cwd()\n",
    "# DATA_DIR = os.path.join(BASE_DIR, 'data')\n",
    "# os.makedirs(DATA_DIR, exist_ok=True)\n",
    "# product_category_links_outout = os.path.join(DATA_DIR, 'category-products.csv')\n",
    "# product_outout = os.path.join(DATA_DIR, 'products.csv')\n",
    "\n",
    "BASE_DIR = Path.cwd()\n",
    "DATA_DIR = BASE_DIR / 'data'\n",
    "if not DATA_DIR.exists():\n",
    "    DATA_DIR.mkdir(exist_ok=True)\n",
    "\n",
    "product_category_links_outout = DATA_DIR / 'category-products.csv'\n",
    "product_outout = DATA_DIR / 'products.csv'"
   ]
  },
  {
   "cell_type": "code",
   "execution_count": 3,
   "id": "f30c235f",
   "metadata": {},
   "outputs": [],
   "source": [
    "options =  Options()\n",
    "options.add_argument('--headless')\n",
    "\n",
    "driver = webdriver.Chrome(options=options)"
   ]
  },
  {
   "cell_type": "code",
   "execution_count": 4,
   "id": "f8461785",
   "metadata": {},
   "outputs": [],
   "source": [
    "categories = [\n",
    "    {'name': 'smartphones', 'url': 'https://www.konga.com/category/smartphones-7539'},\n",
    "    {'name': 'phones-tablets', 'url': 'https://www.konga.com/category/phones-tablets-5294'},\n",
    "    {'name': 'home-kitchen', 'url': 'https://www.konga.com/category/home-kitchen-602'}\n",
    "]"
   ]
  },
  {
   "cell_type": "code",
   "execution_count": 5,
   "id": "077ae922",
   "metadata": {},
   "outputs": [],
   "source": [
    "my_regex_pattern = r\"https://www.konga.com/product/(?P<slug>[\\w-]+)-(?P<product_id>[\\w-]+)\"\n",
    "\n",
    "def extract_product_id_from_url(url):\n",
    "    product_id = None\n",
    "    regex = re.compile(my_regex_pattern)\n",
    "    match = regex.match(url)\n",
    "    if match != None:\n",
    "        try:\n",
    "            product_id = match['product_id']\n",
    "        except:\n",
    "            pass\n",
    "    return product_id"
   ]
  },
  {
   "cell_type": "code",
   "execution_count": 6,
   "id": "ea93282f",
   "metadata": {},
   "outputs": [],
   "source": [
    "def clean_page_links(page_links=[], category=None):\n",
    "    final_page_links = []\n",
    "    for url in page_links:\n",
    "        product_id = extract_product_id_from_url(url)\n",
    "        if product_id != None:\n",
    "            final_page_links.append({\"url\":url, \"product_id\": product_id, \"category\": category})\n",
    "    return final_page_links"
   ]
  },
  {
   "cell_type": "code",
   "execution_count": 26,
   "id": "9b6d0032",
   "metadata": {},
   "outputs": [],
   "source": [
    "def scrape_category_product_links(categories=[]):\n",
    "    all_product_links =[]\n",
    "    for category in categories:\n",
    "        time.sleep(2)\n",
    "        url = category.get('url')\n",
    "        driver.get(url)\n",
    "        body_el = driver.find_element(by=By.CSS_SELECTOR, value='body')\n",
    "        html_str = body_el.get_attribute('innerHTML')\n",
    "        html_obj = HTML(html=html_str)\n",
    "        page_links = [f'https://www.konga.com{x}' for x in html_obj.links if x.startswith('/')]\n",
    "        cleaned_links = clean_page_links(page_links = page_links, category = category)\n",
    "        all_product_links += cleaned_links\n",
    "    return all_product_links"
   ]
  },
  {
   "cell_type": "code",
   "execution_count": 28,
   "id": "a95e2e31",
   "metadata": {},
   "outputs": [
    {
     "name": "stdout",
     "output_type": "stream",
     "text": [
      "[{'url': 'https://www.konga.com/product/nokia-c1-2nd-edition-5-45-16gb-rom-1gb-ram-dual-sim-3g-android-11-2500mah-blue-5387899', 'product_id': '5387899', 'category': {'name': 'smartphones', 'url': 'https://www.konga.com/category/smartphones-7539'}}, {'url': 'https://www.konga.com/product/samsung-galaxy-a12-dual-sim-64gb-rom-4gb-ram-4g-lte-6-5-48mp-5000maah-fingerprint-black-5076081', 'product_id': '5076081', 'category': {'name': 'smartphones', 'url': 'https://www.konga.com/category/smartphones-7539'}}, {'url': 'https://www.konga.com/product/nokia-nokia-g21-6-5-64gb-rom-4gb-ram-dual-sim-4g-lte-5050mah-nordic-blue-5661386', 'product_id': '5661386', 'category': {'name': 'smartphones', 'url': 'https://www.konga.com/category/smartphones-7539'}}, {'url': 'https://www.konga.com/product/infinix-smart-6-x657-black-32gb-rom-2gb-ram-5682011', 'product_id': '5682011', 'category': {'name': 'smartphones', 'url': 'https://www.konga.com/category/smartphones-7539'}}, {'url': 'https://www.konga.com/product/asus-x415ja-bv192t-14-hd-intel-i-core-o-i3-1005g1-4gb-ram-1tb-hdd-win10-transparent-silver-5497503', 'product_id': '5497503', 'category': {'name': 'smartphones', 'url': 'https://www.konga.com/category/smartphones-7539'}}, {'url': 'https://www.konga.com/product/itel-a37-a571w-5-7-hd-waterdrop-16gb-rom-1gb-ram-5mp-2mp-3020mah-green-5202401', 'product_id': '5202401', 'category': {'name': 'smartphones', 'url': 'https://www.konga.com/category/smartphones-7539'}}, {'url': 'https://www.konga.com/product/infinix-smart-5-x657c-dual-32gb-rom-2gb-ram-4g-lte-6-6-hd-5000mah-fingerprint-ocean-wave-5002577', 'product_id': '5002577', 'category': {'name': 'smartphones', 'url': 'https://www.konga.com/category/smartphones-7539'}}, {'url': 'https://www.konga.com/product/nokia-g20-6-52-128gb-rom-4gb-ram-dual-sim-4g-lte-48mp-fingerprint-5050mah-blue-5320197', 'product_id': '5320197', 'category': {'name': 'smartphones', 'url': 'https://www.konga.com/category/smartphones-7539'}}, {'url': 'https://www.konga.com/product/infinix-smart-6-x657-32-2-td-bulk-5681606', 'product_id': '5681606', 'category': {'name': 'smartphones', 'url': 'https://www.konga.com/category/smartphones-7539'}}, {'url': 'https://www.konga.com/product/tecno-pova-neo-le6-dual-6-8-hd-64gb-rom-4gb-ram-13mp-4g-lte-6000mah-fingerprint-5557271', 'product_id': '5557271', 'category': {'name': 'smartphones', 'url': 'https://www.konga.com/category/smartphones-7539'}}, {'url': 'https://www.konga.com/product/tecno-camon-17-pro-6-8-256gb-rom-8gb-ram-dual-sim-4g-lte-5000mah-blue-5269397', 'product_id': '5269397', 'category': {'name': 'smartphones', 'url': 'https://www.konga.com/category/smartphones-7539'}}, {'url': 'https://www.konga.com/product/samsung-samsung-galaxy-a03-core-6-5-2gb-ram-32gb-rom-dual-sim-4g-lte-5000mah-black-5579854', 'product_id': '5579854', 'category': {'name': 'smartphones', 'url': 'https://www.konga.com/category/smartphones-7539'}}, {'url': 'https://www.konga.com/product/tecno-camon-18-premier-ch9-67-256gb-8gb-dual-sim-polar-night-4750mah-5480394', 'product_id': '5480394', 'category': {'name': 'smartphones', 'url': 'https://www.konga.com/category/smartphones-7539'}}, {'url': 'https://www.konga.com/product/tecno-phantom-x-ac8-256-8gb-branded-bag-monet-summer-6-7inch-4700mah-50mp-13mp-8m-super-amoled-5314645', 'product_id': '5314645', 'category': {'name': 'smartphones', 'url': 'https://www.konga.com/category/smartphones-7539'}}, {'url': 'https://www.konga.com/product/samsung-galaxy-a52s-5g-6-5super-amoled-128gb-rom-8gb-ram-dual-sim-4500mah-fingerprint-black-5595391', 'product_id': '5595391', 'category': {'name': 'smartphones', 'url': 'https://www.konga.com/category/smartphones-7539'}}, {'url': 'https://www.konga.com/product/tecno-pop-5-go-bd1-5-71-16gb-rom-1gb-ram-5mp-5mp-4000mah-fingerprint-black-5429184', 'product_id': '5429184', 'category': {'name': 'smartphones', 'url': 'https://www.konga.com/category/smartphones-7539'}}, {'url': 'https://www.konga.com/product/itel-a25-pro-5-0-32gb-rom-2gb-ram-dual-sim-others-4g-lte-3020mah-5505782', 'product_id': '5505782', 'category': {'name': 'smartphones', 'url': 'https://www.konga.com/category/smartphones-7539'}}, {'url': 'https://www.konga.com/product/samsung-galaxy-a03s-6-5-64gb-rom-4gb-ram-dual-sim-4g-lte-13mp-5000mah-fingerprint-black-5413904', 'product_id': '5413904', 'category': {'name': 'smartphones', 'url': 'https://www.konga.com/category/smartphones-7539'}}, {'url': 'https://www.konga.com/product/samsung-galaxy-m32-6-4-128gb-rom-6gb-ram-dual-sim-4g-lte-64mp-fingerprint-6000mah-black-5492352', 'product_id': '5492352', 'category': {'name': 'smartphones', 'url': 'https://www.konga.com/category/smartphones-7539'}}, {'url': 'https://www.konga.com/product/infinix-smart-5-x657-dual-32gb-rom-2gb-ram-3g-6-6-hd-5000mah-fingerprint-midnight-black-4945747', 'product_id': '4945747', 'category': {'name': 'smartphones', 'url': 'https://www.konga.com/category/smartphones-7539'}}, {'url': 'https://www.konga.com/product/itel-a14-plus-16gb-rom-512mb-ram-2500mah-2mp-blue-5134689', 'product_id': '5134689', 'category': {'name': 'smartphones', 'url': 'https://www.konga.com/category/smartphones-7539'}}, {'url': 'https://www.konga.com/product/infinix-smart-hd-x612-2021-blue-32gb-2gb-infinix-headset-5066095', 'product_id': '5066095', 'category': {'name': 'smartphones', 'url': 'https://www.konga.com/category/smartphones-7539'}}, {'url': 'https://www.konga.com/product/nokia-5-4-6-39-128gb-rom-4gb-ram-dual-sim-4g-lte-48mp-fingerprint-4000mah-blue-5368770', 'product_id': '5368770', 'category': {'name': 'smartphones', 'url': 'https://www.konga.com/category/smartphones-7539'}}, {'url': 'https://www.konga.com/product/tecno-spark-8c-kg5j-cyan-6-6-hd-64gb-rom-2gb-ram-5000mah-5670044', 'product_id': '5670044', 'category': {'name': 'smartphones', 'url': 'https://www.konga.com/category/smartphones-7539'}}, {'url': 'https://www.konga.com/product/infinix-smart-5-x657-ocean-wave-6-6-hd-waterdrop-32gb-rom-2gb-ram-8mp-8mp-camera-5000mah-battery-3g-4937941', 'product_id': '4937941', 'category': {'name': 'smartphones', 'url': 'https://www.konga.com/category/smartphones-7539'}}, {'url': 'https://www.konga.com/product/samsung-galaxy-m32-5g-6-5-8gb-ram-128gb-rom-dual-sim-48mp-5000mah-fingerprint-black-5605814', 'product_id': '5605814', 'category': {'name': 'smartphones', 'url': 'https://www.konga.com/category/smartphones-7539'}}, {'url': 'https://www.konga.com/product/tecno-camon-18i-6-6-128gb-rom-4gb-ram-dual-sim-4g-lte-fingerprint-5000mah-5539959', 'product_id': '5539959', 'category': {'name': 'smartphones', 'url': 'https://www.konga.com/category/smartphones-7539'}}, {'url': 'https://www.konga.com/product/samsung-galaxy-a12-dual-sim-64gb-rom-4gb-ram-4g-lte-6-5-48mp-5000maah-fingerprint-blue-5063777', 'product_id': '5063777', 'category': {'name': 'smartphones', 'url': 'https://www.konga.com/category/smartphones-7539'}}, {'url': 'https://www.konga.com/product/apple-iphone-x-64gb-single-sim-silver-free-pouch-screen-guard-and-selfie-stick-5480163', 'product_id': '5480163', 'category': {'name': 'smartphones', 'url': 'https://www.konga.com/category/smartphones-7539'}}, {'url': 'https://www.konga.com/product/tecno-spark-8p-kg7h-6-6-64gb-rom-4gb-ram-5000mah-gold-5645132', 'product_id': '5645132', 'category': {'name': 'smartphones', 'url': 'https://www.konga.com/category/smartphones-7539'}}, {'url': 'https://www.konga.com/product/samsung-galaxy-s7-g930f-4g-lte-12mpand5mp-4gb-ram-32gb-rom-wifi-5260951', 'product_id': '5260951', 'category': {'name': 'smartphones', 'url': 'https://www.konga.com/category/smartphones-7539'}}, {'url': 'https://www.konga.com/product/tecno-spark-8c-6-6-64gb-rom-3gb-ram-13mp-dual-sim-4g-lte-fingerprint-5000mah-cyan-5618217', 'product_id': '5618217', 'category': {'name': 'smartphones', 'url': 'https://www.konga.com/category/smartphones-7539'}}, {'url': 'https://www.konga.com/product/tecno-spark-8c-6-6-2gb-ram-64gb-rom-13mp-dual-sim-4g-lte-fingerprint-5000mah-black-5637918', 'product_id': '5637918', 'category': {'name': 'smartphones', 'url': 'https://www.konga.com/category/smartphones-7539'}}, {'url': 'https://www.konga.com/product/samsung-galaxy-a03-core-6-5-32gb-rom-2gb-ram-dual-sim-4g-lte-5000mah-black-5577143', 'product_id': '5577143', 'category': {'name': 'smartphones', 'url': 'https://www.konga.com/category/smartphones-7539'}}, {'url': 'https://www.konga.com/product/nokia-nokia-1-3-5-71-charcoal-hd-display-16gb-rom-1gb-ram-8mp-5mp-camera-3000mah-5035049', 'product_id': '5035049', 'category': {'name': 'smartphones', 'url': 'https://www.konga.com/category/smartphones-7539'}}, {'url': 'https://www.konga.com/product/samsung-samsung-galaxy-a03-core-6-5-2gb-ram-32gb-rom-dual-sim-4g-lte-5000mah-blue-5579855', 'product_id': '5579855', 'category': {'name': 'smartphones', 'url': 'https://www.konga.com/category/smartphones-7539'}}, {'url': 'https://www.konga.com/product/tecno-pova-2-128gb-6gb-7000mah-battery-6-9-display-android-11-polar-silver-color-5625108', 'product_id': '5625108', 'category': {'name': 'smartphones', 'url': 'https://www.konga.com/category/smartphones-7539'}}, {'url': 'https://www.konga.com/product/infinix-32-hd-smart-android-television-5102735', 'product_id': '5102735', 'category': {'name': 'smartphones', 'url': 'https://www.konga.com/category/smartphones-7539'}}, {'url': 'https://www.konga.com/product/tecno-pop2-f-b1f-dual-sim-16gb-rom-beauty-camera-face-unlock-fingerprint-black-4327429', 'product_id': '4327429', 'category': {'name': 'smartphones', 'url': 'https://www.konga.com/category/smartphones-7539'}}, {'url': 'https://www.konga.com/product/bontel-hot-2-5-hd-ips-display-512mb-256mb-quad-core1-0ghz-processor-and-3000mah-5475194', 'product_id': '5475194', 'category': {'name': 'smartphones', 'url': 'https://www.konga.com/category/smartphones-7539'}}, {'url': 'https://www.konga.com/product/infinix-smart-5c-x657c-2gb-32gb-blk-td-5621521', 'product_id': '5621521', 'category': {'name': 'smartphones', 'url': 'https://www.konga.com/category/smartphones-7539'}}, {'url': 'https://www.konga.com/product/samsung-m52-5g-hybrid-dual-128gb-rom-8gb-ram-64mp-6-7-5000-mah-fingerprint-blue-5540696', 'product_id': '5540696', 'category': {'name': 'smartphones', 'url': 'https://www.konga.com/category/smartphones-7539'}}, {'url': 'https://www.konga.com/product/tecno-camon-18-premier-ch9-67-256gb-8gb-dual-sim-polar-night-4750mah-5480394', 'product_id': '5480394', 'category': {'name': 'phones-tablets', 'url': 'https://www.konga.com/category/phones-tablets-5294'}}, {'url': 'https://www.konga.com/product/tecno-phantom-x-ac8-256-8gb-branded-bag-monet-summer-6-7inch-4700mah-50mp-13mp-8m-super-amoled-5314645', 'product_id': '5314645', 'category': {'name': 'phones-tablets', 'url': 'https://www.konga.com/category/phones-tablets-5294'}}, {'url': 'https://www.konga.com/product/infinix-32-hd-smart-android-television-5102735', 'product_id': '5102735', 'category': {'name': 'phones-tablets', 'url': 'https://www.konga.com/category/phones-tablets-5294'}}, {'url': 'https://www.konga.com/product/infinix-smart-hd-x612-2021-blue-32gb-2gb-infinix-headset-5066095', 'product_id': '5066095', 'category': {'name': 'phones-tablets', 'url': 'https://www.konga.com/category/phones-tablets-5294'}}, {'url': 'https://www.konga.com/product/asus-x415ja-bv192t-14-hd-intel-i-core-o-i3-1005g1-4gb-ram-1tb-hdd-win10-transparent-silver-5497503', 'product_id': '5497503', 'category': {'name': 'phones-tablets', 'url': 'https://www.konga.com/category/phones-tablets-5294'}}, {'url': 'https://www.konga.com/product/tecno-camon-18-premier-ch9-67-256gb-8gb-dual-sim-polar-night-4750mah-5480394', 'product_id': '5480394', 'category': {'name': 'home-kitchen', 'url': 'https://www.konga.com/category/home-kitchen-602'}}, {'url': 'https://www.konga.com/product/tecno-phantom-x-ac8-256-8gb-branded-bag-monet-summer-6-7inch-4700mah-50mp-13mp-8m-super-amoled-5314645', 'product_id': '5314645', 'category': {'name': 'home-kitchen', 'url': 'https://www.konga.com/category/home-kitchen-602'}}, {'url': 'https://www.konga.com/product/infinix-32-hd-smart-android-television-5102735', 'product_id': '5102735', 'category': {'name': 'home-kitchen', 'url': 'https://www.konga.com/category/home-kitchen-602'}}, {'url': 'https://www.konga.com/product/infinix-smart-hd-x612-2021-blue-32gb-2gb-infinix-headset-5066095', 'product_id': '5066095', 'category': {'name': 'home-kitchen', 'url': 'https://www.konga.com/category/home-kitchen-602'}}, {'url': 'https://www.konga.com/product/asus-x415ja-bv192t-14-hd-intel-i-core-o-i3-1005g1-4gb-ram-1tb-hdd-win10-transparent-silver-5497503', 'product_id': '5497503', 'category': {'name': 'home-kitchen', 'url': 'https://www.konga.com/category/home-kitchen-602'}}]\n"
     ]
    }
   ],
   "source": [
    "print(scrape_category_product_links(categories=categories))"
   ]
  },
  {
   "cell_type": "code",
   "execution_count": 29,
   "id": "eef59da7",
   "metadata": {},
   "outputs": [],
   "source": [
    "def extract_categories_and_save(categories=[]):\n",
    "    all_product_links =scrape_category_product_links(categories)\n",
    "    category_df = pd.DataFrame(all_product_links)\n",
    "    category_df.to_csv(product_category_links_outout, index=False)"
   ]
  },
  {
   "cell_type": "code",
   "execution_count": 31,
   "id": "2075f8ac",
   "metadata": {},
   "outputs": [],
   "source": [
    "extract_categories_and_save(categories=categories)"
   ]
  },
  {
   "cell_type": "code",
   "execution_count": 33,
   "id": "aef7e734",
   "metadata": {},
   "outputs": [],
   "source": [
    "def scrape_product_page(url, title_lookup = \"._24849_2Ymhg\", price_lookup = \"._678e4_e6nqh\"):\n",
    "    driver.get(url)\n",
    "    time.sleep(1.2)\n",
    "    body_el = driver.find_element(by=By.CSS_SELECTOR, value='body')\n",
    "    html_str = body_el.get_attribute('innerHTML')\n",
    "    html_obj = HTML(html=html_str)\n",
    "    product_title = html_obj.find(title_lookup, first=True).text\n",
    "    product_price = html_obj.find(price_lookup, first=True).text\n",
    "    return product_title, product_price"
   ]
  },
  {
   "cell_type": "code",
   "execution_count": 34,
   "id": "1e95c4d9",
   "metadata": {},
   "outputs": [],
   "source": [
    "def perform_scrape(cleaned_items = []):\n",
    "    data_extracted = []\n",
    "    for obj in cleaned_items:\n",
    "        link = obj['url']\n",
    "        product_id = obj['product_id']\n",
    "        title, price = (None, None)\n",
    "        try:\n",
    "            title, price = scrape_product_page(link)\n",
    "        except:\n",
    "            pass\n",
    "        if title != None and price != None:\n",
    "            print(link, title, price)\n",
    "        product_data = {\n",
    "            'url':link,\n",
    "            'product_id':product_id,\n",
    "            'title':title,\n",
    "            'price':price\n",
    "        }  \n",
    "        data_extracted.append(product_data)\n",
    "    return data_extracted"
   ]
  },
  {
   "cell_type": "code",
   "execution_count": 35,
   "id": "3ab98bdd",
   "metadata": {},
   "outputs": [],
   "source": [
    "#extracted_data = perform_scrape(cleaned_items = final_page_links)"
   ]
  },
  {
   "cell_type": "code",
   "execution_count": 36,
   "id": "0b0a2deb",
   "metadata": {},
   "outputs": [],
   "source": [
    "# print(extracted_data)"
   ]
  },
  {
   "cell_type": "code",
   "execution_count": 37,
   "id": "89d7e17d",
   "metadata": {},
   "outputs": [],
   "source": [
    "def row_scrape_event(row, *args, **kwargs):\n",
    "    link = row['url']\n",
    "    scraped = 0\n",
    "    try:\n",
    "        scraped = row['scraped']\n",
    "    except:\n",
    "        pass\n",
    "    if scraped == 1 or scraped == '1':\n",
    "        return row\n",
    "    product_id = row['product_id']\n",
    "    title, price = (None, None)\n",
    "    try:\n",
    "        title, price = scrape_product_page(link)\n",
    "    except:\n",
    "        pass\n",
    "    row['title'] = title\n",
    "    row['price'] = price\n",
    "    row['scraped'] = 1\n",
    "    row['timestamp'] = datetime.datetime.now().timestamp()\n",
    "    return row"
   ]
  },
  {
   "cell_type": "code",
   "execution_count": 40,
   "id": "12a78d88",
   "metadata": {},
   "outputs": [
    {
     "data": {
      "text/html": [
       "<div>\n",
       "<style scoped>\n",
       "    .dataframe tbody tr th:only-of-type {\n",
       "        vertical-align: middle;\n",
       "    }\n",
       "\n",
       "    .dataframe tbody tr th {\n",
       "        vertical-align: top;\n",
       "    }\n",
       "\n",
       "    .dataframe thead th {\n",
       "        text-align: right;\n",
       "    }\n",
       "</style>\n",
       "<table border=\"1\" class=\"dataframe\">\n",
       "  <thead>\n",
       "    <tr style=\"text-align: right;\">\n",
       "      <th></th>\n",
       "      <th>url</th>\n",
       "      <th>product_id</th>\n",
       "      <th>category</th>\n",
       "    </tr>\n",
       "  </thead>\n",
       "  <tbody>\n",
       "    <tr>\n",
       "      <th>0</th>\n",
       "      <td>https://www.konga.com/product/tecno-camon-18-p...</td>\n",
       "      <td>5480394</td>\n",
       "      <td>{'name': 'smartphones', 'url': 'https://www.ko...</td>\n",
       "    </tr>\n",
       "    <tr>\n",
       "      <th>1</th>\n",
       "      <td>https://www.konga.com/product/tecno-phantom-x-...</td>\n",
       "      <td>5314645</td>\n",
       "      <td>{'name': 'smartphones', 'url': 'https://www.ko...</td>\n",
       "    </tr>\n",
       "    <tr>\n",
       "      <th>2</th>\n",
       "      <td>https://www.konga.com/product/infinix-32-hd-sm...</td>\n",
       "      <td>5102735</td>\n",
       "      <td>{'name': 'smartphones', 'url': 'https://www.ko...</td>\n",
       "    </tr>\n",
       "    <tr>\n",
       "      <th>3</th>\n",
       "      <td>https://www.konga.com/product/infinix-smart-hd...</td>\n",
       "      <td>5066095</td>\n",
       "      <td>{'name': 'smartphones', 'url': 'https://www.ko...</td>\n",
       "    </tr>\n",
       "    <tr>\n",
       "      <th>4</th>\n",
       "      <td>https://www.konga.com/product/asus-x415ja-bv19...</td>\n",
       "      <td>5497503</td>\n",
       "      <td>{'name': 'smartphones', 'url': 'https://www.ko...</td>\n",
       "    </tr>\n",
       "  </tbody>\n",
       "</table>\n",
       "</div>"
      ],
      "text/plain": [
       "                                                 url  product_id  \\\n",
       "0  https://www.konga.com/product/tecno-camon-18-p...     5480394   \n",
       "1  https://www.konga.com/product/tecno-phantom-x-...     5314645   \n",
       "2  https://www.konga.com/product/infinix-32-hd-sm...     5102735   \n",
       "3  https://www.konga.com/product/infinix-smart-hd...     5066095   \n",
       "4  https://www.konga.com/product/asus-x415ja-bv19...     5497503   \n",
       "\n",
       "                                            category  \n",
       "0  {'name': 'smartphones', 'url': 'https://www.ko...  \n",
       "1  {'name': 'smartphones', 'url': 'https://www.ko...  \n",
       "2  {'name': 'smartphones', 'url': 'https://www.ko...  \n",
       "3  {'name': 'smartphones', 'url': 'https://www.ko...  \n",
       "4  {'name': 'smartphones', 'url': 'https://www.ko...  "
      ]
     },
     "execution_count": 40,
     "metadata": {},
     "output_type": "execute_result"
    }
   ],
   "source": [
    "df = pd.read_csv(product_category_links_outout)\n",
    "df.head()"
   ]
  },
  {
   "cell_type": "code",
   "execution_count": 41,
   "id": "c440057e",
   "metadata": {},
   "outputs": [],
   "source": [
    "#df_sub = df.copy #df.head(n=40)"
   ]
  },
  {
   "cell_type": "code",
   "execution_count": 43,
   "id": "7402442e",
   "metadata": {},
   "outputs": [],
   "source": [
    "df = df.apply(row_scrape_event, axis=1)"
   ]
  },
  {
   "cell_type": "code",
   "execution_count": 44,
   "id": "a1021125",
   "metadata": {},
   "outputs": [],
   "source": [
    "df.to_csv(product_outout, index=False)"
   ]
  },
  {
   "cell_type": "code",
   "execution_count": 45,
   "id": "771120c4",
   "metadata": {},
   "outputs": [],
   "source": [
    "products_df = pd.read_csv(product_outout)\n"
   ]
  },
  {
   "cell_type": "code",
   "execution_count": 47,
   "id": "3d02c1ce",
   "metadata": {},
   "outputs": [],
   "source": [
    "final_df = pd.concat([products_df, df])\n",
    "final_df.to_csv(product_outout, index=False)"
   ]
  },
  {
   "cell_type": "code",
   "execution_count": 48,
   "id": "5fbab50a",
   "metadata": {},
   "outputs": [
    {
     "data": {
      "text/html": [
       "<div>\n",
       "<style scoped>\n",
       "    .dataframe tbody tr th:only-of-type {\n",
       "        vertical-align: middle;\n",
       "    }\n",
       "\n",
       "    .dataframe tbody tr th {\n",
       "        vertical-align: top;\n",
       "    }\n",
       "\n",
       "    .dataframe thead th {\n",
       "        text-align: right;\n",
       "    }\n",
       "</style>\n",
       "<table border=\"1\" class=\"dataframe\">\n",
       "  <thead>\n",
       "    <tr style=\"text-align: right;\">\n",
       "      <th></th>\n",
       "      <th>url</th>\n",
       "      <th>product_id</th>\n",
       "      <th>category</th>\n",
       "      <th>title</th>\n",
       "      <th>price</th>\n",
       "      <th>scraped</th>\n",
       "      <th>timestamp</th>\n",
       "    </tr>\n",
       "  </thead>\n",
       "  <tbody>\n",
       "    <tr>\n",
       "      <th>10</th>\n",
       "      <td>https://www.konga.com/product/tecno-camon-18-p...</td>\n",
       "      <td>5480394</td>\n",
       "      <td>{'name': 'home-kitchen', 'url': 'https://www.k...</td>\n",
       "      <td>Tecno Camon 18 Premier -CH9- 6'7\" - 256gb - 8g...</td>\n",
       "      <td>₦180,200</td>\n",
       "      <td>1</td>\n",
       "      <td>1.649075e+09</td>\n",
       "    </tr>\n",
       "    <tr>\n",
       "      <th>11</th>\n",
       "      <td>https://www.konga.com/product/tecno-phantom-x-...</td>\n",
       "      <td>5314645</td>\n",
       "      <td>{'name': 'home-kitchen', 'url': 'https://www.k...</td>\n",
       "      <td>Tecno Phantom X (ac8) 256+8gb + Branded Bag - ...</td>\n",
       "      <td>₦240,000</td>\n",
       "      <td>1</td>\n",
       "      <td>1.649075e+09</td>\n",
       "    </tr>\n",
       "    <tr>\n",
       "      <th>12</th>\n",
       "      <td>https://www.konga.com/product/infinix-32-hd-sm...</td>\n",
       "      <td>5102735</td>\n",
       "      <td>{'name': 'home-kitchen', 'url': 'https://www.k...</td>\n",
       "      <td>Infinix 32' HD Smart Android Television</td>\n",
       "      <td>₦87,600</td>\n",
       "      <td>1</td>\n",
       "      <td>1.649075e+09</td>\n",
       "    </tr>\n",
       "    <tr>\n",
       "      <th>13</th>\n",
       "      <td>https://www.konga.com/product/infinix-smart-hd...</td>\n",
       "      <td>5066095</td>\n",
       "      <td>{'name': 'home-kitchen', 'url': 'https://www.k...</td>\n",
       "      <td>Infinix Smart Hd-x612- 2021 - Blue 32gb /2gb +...</td>\n",
       "      <td>₦46,300</td>\n",
       "      <td>1</td>\n",
       "      <td>1.649075e+09</td>\n",
       "    </tr>\n",
       "    <tr>\n",
       "      <th>14</th>\n",
       "      <td>https://www.konga.com/product/asus-x415ja-bv19...</td>\n",
       "      <td>5497503</td>\n",
       "      <td>{'name': 'home-kitchen', 'url': 'https://www.k...</td>\n",
       "      <td>Asus X415ja-bv192t - 14\" Hd -Intel® Core™ I3-1...</td>\n",
       "      <td>₦220,000</td>\n",
       "      <td>1</td>\n",
       "      <td>1.649075e+09</td>\n",
       "    </tr>\n",
       "  </tbody>\n",
       "</table>\n",
       "</div>"
      ],
      "text/plain": [
       "                                                  url  product_id  \\\n",
       "10  https://www.konga.com/product/tecno-camon-18-p...     5480394   \n",
       "11  https://www.konga.com/product/tecno-phantom-x-...     5314645   \n",
       "12  https://www.konga.com/product/infinix-32-hd-sm...     5102735   \n",
       "13  https://www.konga.com/product/infinix-smart-hd...     5066095   \n",
       "14  https://www.konga.com/product/asus-x415ja-bv19...     5497503   \n",
       "\n",
       "                                             category  \\\n",
       "10  {'name': 'home-kitchen', 'url': 'https://www.k...   \n",
       "11  {'name': 'home-kitchen', 'url': 'https://www.k...   \n",
       "12  {'name': 'home-kitchen', 'url': 'https://www.k...   \n",
       "13  {'name': 'home-kitchen', 'url': 'https://www.k...   \n",
       "14  {'name': 'home-kitchen', 'url': 'https://www.k...   \n",
       "\n",
       "                                                title     price  scraped  \\\n",
       "10  Tecno Camon 18 Premier -CH9- 6'7\" - 256gb - 8g...  ₦180,200        1   \n",
       "11  Tecno Phantom X (ac8) 256+8gb + Branded Bag - ...  ₦240,000        1   \n",
       "12            Infinix 32' HD Smart Android Television   ₦87,600        1   \n",
       "13  Infinix Smart Hd-x612- 2021 - Blue 32gb /2gb +...   ₦46,300        1   \n",
       "14  Asus X415ja-bv192t - 14\" Hd -Intel® Core™ I3-1...  ₦220,000        1   \n",
       "\n",
       "       timestamp  \n",
       "10  1.649075e+09  \n",
       "11  1.649075e+09  \n",
       "12  1.649075e+09  \n",
       "13  1.649075e+09  \n",
       "14  1.649075e+09  "
      ]
     },
     "execution_count": 48,
     "metadata": {},
     "output_type": "execute_result"
    }
   ],
   "source": [
    "final_df.tail()"
   ]
  },
  {
   "cell_type": "code",
   "execution_count": null,
   "id": "4f0052b4",
   "metadata": {},
   "outputs": [],
   "source": []
  }
 ],
 "metadata": {
  "kernelspec": {
   "display_name": "Python 3 (ipykernel)",
   "language": "python",
   "name": "python3"
  },
  "language_info": {
   "codemirror_mode": {
    "name": "ipython",
    "version": 3
   },
   "file_extension": ".py",
   "mimetype": "text/x-python",
   "name": "python",
   "nbconvert_exporter": "python",
   "pygments_lexer": "ipython3",
   "version": "3.10.1"
  }
 },
 "nbformat": 4,
 "nbformat_minor": 5
}
