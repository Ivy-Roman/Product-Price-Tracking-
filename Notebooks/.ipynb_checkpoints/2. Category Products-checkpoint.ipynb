{
 "cells": [
  {
   "cell_type": "code",
   "execution_count": 41,
   "id": "817c908e",
   "metadata": {},
   "outputs": [],
   "source": [
    "import requests\n",
    "import time\n",
    "from requests_html import HTML\n",
    "from selenium import webdriver\n",
    "from selenium.webdriver.chrome.options import Options\n",
    "from selenium.webdriver.common.by import By"
   ]
  },
  {
   "cell_type": "code",
   "execution_count": 8,
   "id": "f30c235f",
   "metadata": {},
   "outputs": [],
   "source": [
    "options =  Options()\n",
    "options.add_argument('--headless')\n",
    "\n",
    "driver = webdriver.Chrome(options=options)"
   ]
  },
  {
   "cell_type": "code",
   "execution_count": 93,
   "id": "f8461785",
   "metadata": {},
   "outputs": [],
   "source": [
    "categories = [\n",
    "    'https://www.amazon.com/gp/bestsellers/baby-products',\n",
    "    'https://www.konga.com/category/phones-tablets-5294',\n",
    "    'https://www.konga.com/category/home-kitchen-602'\n",
    "]"
   ]
  },
  {
   "cell_type": "code",
   "execution_count": 94,
   "id": "9b6d0032",
   "metadata": {},
   "outputs": [
    {
     "data": {
      "text/plain": [
       "['https://www.amazon.com/gp/bestsellers/baby-products',\n",
       " 'https://www.konga.com/category/phones-tablets-5294',\n",
       " 'https://www.konga.com/category/home-kitchen-602']"
      ]
     },
     "execution_count": 94,
     "metadata": {},
     "output_type": "execute_result"
    }
   ],
   "source": [
    "categories"
   ]
  },
  {
   "cell_type": "code",
   "execution_count": 121,
   "id": "10f11eb0",
   "metadata": {},
   "outputs": [],
   "source": [
    "first_url = categories[2]"
   ]
  },
  {
   "cell_type": "code",
   "execution_count": 122,
   "id": "66160bea",
   "metadata": {},
   "outputs": [],
   "source": [
    "driver.get(first_url)"
   ]
  },
  {
   "cell_type": "code",
   "execution_count": 123,
   "id": "e2b36fd8",
   "metadata": {},
   "outputs": [],
   "source": [
    "body_el = driver.find_element(by=By.CSS_SELECTOR, value='body')\n",
    "html_str = body_el.get_attribute('innerHTML')"
   ]
  },
  {
   "cell_type": "code",
   "execution_count": 124,
   "id": "7e27c6cc",
   "metadata": {},
   "outputs": [
    {
     "name": "stdout",
     "output_type": "stream",
     "text": [
      "{'http://affiliate.konga.com/', '/product/glow-in-the-dark-luminous-wall-stickers-100-pack-5323370', '/product/asus-x415ja-bv192t-14-hd-intel-i-core-o-i3-1005g1-4gb-ram-1tb-hdd-win10-transparent-silver-5497503', '/product/polystar-polystar-20-industrial-fan-black-pv-20ndb-5097853', '/content/privacy-policy', '/category/baby-kids-toys-8', '/category/home-kitchen-602?brand=Ambiano', '/merchant/91944', '/content/groceries', 'https://www.konga.com/air-conditioners', '/category/home-kitchen-602?brand=Kenwood', '/category/home-kitchen-602?size=L', '/content/authentic-items-policy', '/category/home-kitchen-602?special_price=₦10000 - ₦20000', '/category/home-kitchen-602?brand=Haier Thermocool', '/category/home-kitchen-602?size=8', '/category/home-kitchen-602', 'http://food.konga.com/', '/merchant/116665', '/help/faqs', '/category/home-kitchen-602?brand=AKT', '/product/shake-n-take-smoothie-blender-with-double-bottle-3647994', 'https://www.konga.com/blenders', '//play.google.com/store/apps/details?id=com.konga.androida', '/category/home-kitchen-602?brand=Russell Hobbs', '/category/home-kitchen-602?brand=Breville', '/content/drinks', '/product/tecno-camon-18-premier-ch9-67-256gb-8gb-dual-sim-polar-night-4750mah-5480394', '/category/accessories-computing-5227', '/category/home-kitchen-602?color=Others', 'https://www.myverveworld.com', '/category/home-kitchen-602?color=Multicolour', 'https://track.konga.com', '/category/home-kitchen-602?size=XXL', 'https://travel.konga.com/', '/category/home-kitchen-602?brand=Morphy Richards', '/category/home-kitchen-602?brand=Scanfrost', '/category/home-kitchen-602?brand=Saisho', '/product/nexus-18-stand-fan-nx-sf5400b-5493339', '/category/home-kitchen-602?shirt_size=M', '/product/table-top-two-burner-gas-cooker-multicolour-4415916', '/category/home-kitchen-602?size=9', '/category/home-kitchen-602?size=One Size', '/category/home-kitchen-602?brand=Eurosonic', '/category/home-kitchen-602?brand=Rico', '/category/home-kitchen-602?brand=Midea', '/product/lontor-5-mini-rechargeable-table-fan-with-led-light-5640186', '/content/return-policy', '/merchant/192230', '/content/terms-and-conditions', '/merchant/193615', '/product/qasa-1-8l-blender-and-grinder-qbl-18l40-3672556', '/product/century-power-deluxe-blender-8231-n-1-5l-5494088', '/product/ox-plus-copper-coil-standing-fan-18-5444923', '/product/mosquito-killer-lamp-and-pest-catcher-5091633', '/product/sunlight-spring-tropical-sensations-washing-powder-900g-double-pack-5003042', '/search?search=laptop', 'https://www.konga.com/black-friday', '/category/home-kitchen-602?color=Silver', '/product/tap-water-filter-and-purifier-purple-4885508', '/sitemap.xml', '/category/home-kitchen-602?brand=Dessini', '/product/sunlight-multi-purpose-washing-liquid-lemon-1l-4956326', '/category/home-kitchen-602?size=31\"', '/category/home-kitchen-602?brand=Sonik', '/category/home-kitchen-602?size=M', '/category/home-kitchen-602?brand=Bosch', '/category/home-kitchen-602?brand=A&S', '/brand/a&s', '/category/home-kitchen-602?brand=Polystar', '/product/manual-drinking-water-dispenser-pump-4420205', 'https://www.konga.com/cookers-ovens', '/content/about-us/company-overview', '/category/home-kitchen-602?brand=Akai', '/product/silvercrest-air-fryer-6l-2400w-5637946', '/product/qasa-rechargeable-lantern-with-built-in-solar-panel-qltn-81b-4561419', '/category/home-kitchen-602?brand=Exact', '/product/tecno-spark-8-kg6-blue-6-5-2gb-64gb-16mp-8mp-ai-dual-camera-5000mah-5406692', '/product/infinix-smart-hd-x612-2021-blue-32gb-2gb-infinix-headset-5066095', '/product/qasa-18-inch-rechargeable-standing-fan-remote-led-light-and-usb-port-5069202', 'https://www.visa.com', '/product/kenwood-professional-7-speed-hand-stick-mixer-4591244', 'https://www.konga.com/furniture', '/stores', '/category/home-kitchen-602?open_filter=yes', '//itunes.apple.com/us/app/konga/id880918394?ls=1&mt=8', 'https://blog.konga.com', '/category/home-kitchen-602?open_sort=yes', '/category/home-kitchen-602?size=XL', '/category/home-kitchen-602?brand=Bedding Collection', '/category/home-kitchen-602?brand=Kinelco', '/brand/hp', '/category/home-kitchen-602?brand=Vitafoam', '/merchant/172060', '/product/automatic-rechargeable-water-dispenser-pump-4769358', '/category/home-kitchen-602?color=Not Applicable', '/category/home-kitchen-602?brand=Lontor', '/merchant/6025', '/merchant/176208', 'https://www.mastercard.com', '/category/home-kitchen-602?brand=LG', '/category/home-kitchen-602?brand=Nikkysavy', '/category/home-kitchen-602?size=11', 'https://www.facebook.com/ShopKonga', '/product/stainless-steel-napkin-serviette-holder-2pcs-5335513', '/product/ox-18-standing-fan-100-copper-coil-5629820', '/category/home-kitchen-602?brand=Unique', '/category/home-kitchen-602?brand=Havells', '/category/home-kitchen-602?brand=QASA', 'https://kxpress.ng', '/product/mini-sewing-machine-with-foot-pedal-electric-and-battery-operated-5375621', '/product/stainless-pots-set-of-6-4165686', '/product/itec-itec-18-rechargeable-stand-fan-5024887', '/category/home-kitchen-602?brand=Swan', '/help/contact-us', '/merchant/148257', '/category/home-kitchen-602?', '/category/home-kitchen-602?size=12', '/search?search=generator', '/category/home-kitchen-602?color=White', 'https://www.konga.com/kitchen-dining', '/category/home-kitchen-602?color=Blue', '/brand/fashion-front', '/category/home-kitchen-602?special_price=₦5000 - ₦10000', '/merchant/166423', '/category/home-kitchen-602?color=Yellow', '/product/3-litres-whistling-kettle-4477571', '/category/other-categories-5971', '/search?search=iphone', '/product/foldable-table-and-chair-3534794', '/category/home-kitchen-602?sort=sc', '/cart/overview', '/merchant/138510', '/category/home-kitchen-602?is_free_shipping=1', 'https://www.youtube.com/shopkonga', '/product/duravolt-16-rechargeable-standing-fan-with-lithium-battery-panel-and-bulbs-drf-2916l-5623987', '/category/home-kitchen-602?mobile_menu=open', '/category/home-kitchen-602?brand=Ox', '/services', '/product/flexible-door-bottom-sealing-strip-guard-and-dour-stopper-5537234', '/category/home-kitchen-602?brand=Butterfly', '/careers', '/category/home-kitchen-602?brand=Master Chef', '/help/bulk-purchase', '/product/omo-hand-washing-powder-2kg-5003041', 'https://www.instagram.com/shopkonga', '/product/ox-us-26-industrial-standing-water-ac-mist-fan-5399580', '/category/home-kitchen-602?brand=ART', '/category/home-kitchen-602?special_price=₦2000 - ₦5000', '/account/wallet', 'https://www.konga.com/content/Health', '/product/omo-protect-handwashing-detergent-powder-900g-5300045', '/category/home-kitchen-602?special_price=Under ₦2000', '/category/home-kitchen-602?brand=Handys', '/merchant/190584', '/help/sell-on-konga', 'tel:07080635700', '/category/home-kitchen-602?color=Green', '/category/home-kitchen-602?brand=Binatone', '/category/home-kitchen-602?special_price=₦20000 - ₦40000', '/product/mouka-foam-crown-pillow-fiber-5604153', '/merchant/86527', '/category/home-kitchen-602?brand=Camry', '/merchant/118566', 'https://twitter.com/@shopkonga', '/product/sunlight-multi-purpose-washing-liquid-lavender-1l-5138701', '/category/home-kitchen-602?konga_fulfilment_type=CWK', '/category/home-kitchen-602?is_pay_on_delivery=1', '/merchant/143013', '/category/home-kitchen-602?brand=SQ Professional', '/merchant/173785', '/help/delivery', '/brand/sony', '/category/home-kitchen-602?sort=c', '/category/home-kitchen-602?open_filter=no', '/merchant/111309', '/merchant/171943', '/product/sonik-sonik-rechargeable-blender-4502190', '/product/infinix-32-hd-smart-android-television-5102735', '/account/signup', '/merchant/84185', '/category/home-kitchen-602?special_price=Above ₦40000', '/search?search=undefined', '/category/konga-fashion-1259', '/category/home-kitchen-602?brand=Ikea', 'https://www.kongapay.com', '/category/electronics-5261', '/product/magic-mesh-anti-mosquito-door-net-curtain-5229446', '/search?search=phones', 'https://www.konga.com/washing-machines-dryers', '/category/phones-tablets-5294', '/category/home-kitchen-602?brand=Nima', '/product/automatic-water-dispenser-4502473', '/category/home-kitchen-602?brand=Century', '/category/home-kitchen-602?brand=Rite-tek', 'https://community.konga.com', '/category/home-kitchen-602?brand=VAS Studio Art', '/category/home-kitchen-602?brand=Panasonic', '/category/home-kitchen-602?brand=SilverCrest', '/product/qasa-rechargeable-lantern-with-inbuilt-solar-panel-qltn-81b-5597844', 'https://www.konga.com/search?konga_fulfilment_type=CWK', '/product/high-back-lifting-arms-office-swivel-mesh-chair-4495373', '/account/login', '/category/home-kitchen-602?brand=Sokany', '/', '/category/home-kitchen-602?color=Black', '/category/home-kitchen-602?color=Brown', '/merchant/137123', '/merchant/149539', '/merchant/148563', '/category/home-kitchen-602?brand=Philips', '/merchant/110316', '/help/buyer-safety', '/category/home-kitchen-602?brand=Crown Star', '/category/home-kitchen-602?konga_fulfilment_type=SHQ', '/product/shake-n-take-6-blades-rechargeable-smoothie-maker-and-blender-with-usb-charger-4834018', '/category/home-kitchen-602?brand=Emel', '/account/login?return_url=/category/home-kitchen-602', '/product/hisense-12-5kg-7-5kg-wash-5kg-spin-twin-tub-washing-machine-wspa753-5668850', '/category/home-kitchen-602?brand=Hisense', '/category/home-kitchen-602?brand=Tower'}\n"
     ]
    }
   ],
   "source": [
    "html_obj = HTML(html=html_str)\n",
    "print(html_obj.links)"
   ]
  },
  {
   "cell_type": "code",
   "execution_count": 125,
   "id": "cefe6697",
   "metadata": {},
   "outputs": [],
   "source": [
    "new_links = [x for x in html_obj.links if x.startswith('/')]"
   ]
  },
  {
   "cell_type": "code",
   "execution_count": 126,
   "id": "959eb715",
   "metadata": {},
   "outputs": [],
   "source": [
    "page_links = [f'https://www.konga.com{x}' for x in new_links]"
   ]
  },
  {
   "cell_type": "code",
   "execution_count": 127,
   "id": "a186e60c",
   "metadata": {},
   "outputs": [
    {
     "data": {
      "text/plain": [
       "['https://www.konga.com/product/glow-in-the-dark-luminous-wall-stickers-100-pack-5323370',\n",
       " 'https://www.konga.com/product/asus-x415ja-bv192t-14-hd-intel-i-core-o-i3-1005g1-4gb-ram-1tb-hdd-win10-transparent-silver-5497503',\n",
       " 'https://www.konga.com/product/polystar-polystar-20-industrial-fan-black-pv-20ndb-5097853',\n",
       " 'https://www.konga.com/content/privacy-policy',\n",
       " 'https://www.konga.com/category/baby-kids-toys-8',\n",
       " 'https://www.konga.com/category/home-kitchen-602?brand=Ambiano',\n",
       " 'https://www.konga.com/merchant/91944',\n",
       " 'https://www.konga.com/content/groceries',\n",
       " 'https://www.konga.com/category/home-kitchen-602?brand=Kenwood',\n",
       " 'https://www.konga.com/category/home-kitchen-602?size=L',\n",
       " 'https://www.konga.com/content/authentic-items-policy',\n",
       " 'https://www.konga.com/category/home-kitchen-602?special_price=₦10000 - ₦20000',\n",
       " 'https://www.konga.com/category/home-kitchen-602?brand=Haier Thermocool',\n",
       " 'https://www.konga.com/category/home-kitchen-602?size=8',\n",
       " 'https://www.konga.com/category/home-kitchen-602',\n",
       " 'https://www.konga.com/merchant/116665',\n",
       " 'https://www.konga.com/help/faqs',\n",
       " 'https://www.konga.com/category/home-kitchen-602?brand=AKT',\n",
       " 'https://www.konga.com/product/shake-n-take-smoothie-blender-with-double-bottle-3647994',\n",
       " 'https://www.konga.com//play.google.com/store/apps/details?id=com.konga.androida',\n",
       " 'https://www.konga.com/category/home-kitchen-602?brand=Russell Hobbs',\n",
       " 'https://www.konga.com/category/home-kitchen-602?brand=Breville',\n",
       " 'https://www.konga.com/content/drinks',\n",
       " 'https://www.konga.com/product/tecno-camon-18-premier-ch9-67-256gb-8gb-dual-sim-polar-night-4750mah-5480394',\n",
       " 'https://www.konga.com/category/accessories-computing-5227',\n",
       " 'https://www.konga.com/category/home-kitchen-602?color=Others',\n",
       " 'https://www.konga.com/category/home-kitchen-602?color=Multicolour',\n",
       " 'https://www.konga.com/category/home-kitchen-602?size=XXL',\n",
       " 'https://www.konga.com/category/home-kitchen-602?brand=Morphy Richards',\n",
       " 'https://www.konga.com/category/home-kitchen-602?brand=Scanfrost',\n",
       " 'https://www.konga.com/category/home-kitchen-602?brand=Saisho',\n",
       " 'https://www.konga.com/product/nexus-18-stand-fan-nx-sf5400b-5493339',\n",
       " 'https://www.konga.com/category/home-kitchen-602?shirt_size=M',\n",
       " 'https://www.konga.com/product/table-top-two-burner-gas-cooker-multicolour-4415916',\n",
       " 'https://www.konga.com/category/home-kitchen-602?size=9',\n",
       " 'https://www.konga.com/category/home-kitchen-602?size=One Size',\n",
       " 'https://www.konga.com/category/home-kitchen-602?brand=Eurosonic',\n",
       " 'https://www.konga.com/category/home-kitchen-602?brand=Rico',\n",
       " 'https://www.konga.com/category/home-kitchen-602?brand=Midea',\n",
       " 'https://www.konga.com/product/lontor-5-mini-rechargeable-table-fan-with-led-light-5640186',\n",
       " 'https://www.konga.com/content/return-policy',\n",
       " 'https://www.konga.com/merchant/192230',\n",
       " 'https://www.konga.com/content/terms-and-conditions',\n",
       " 'https://www.konga.com/merchant/193615',\n",
       " 'https://www.konga.com/product/qasa-1-8l-blender-and-grinder-qbl-18l40-3672556',\n",
       " 'https://www.konga.com/product/century-power-deluxe-blender-8231-n-1-5l-5494088',\n",
       " 'https://www.konga.com/product/ox-plus-copper-coil-standing-fan-18-5444923',\n",
       " 'https://www.konga.com/product/mosquito-killer-lamp-and-pest-catcher-5091633',\n",
       " 'https://www.konga.com/product/sunlight-spring-tropical-sensations-washing-powder-900g-double-pack-5003042',\n",
       " 'https://www.konga.com/search?search=laptop',\n",
       " 'https://www.konga.com/category/home-kitchen-602?color=Silver',\n",
       " 'https://www.konga.com/product/tap-water-filter-and-purifier-purple-4885508',\n",
       " 'https://www.konga.com/sitemap.xml',\n",
       " 'https://www.konga.com/category/home-kitchen-602?brand=Dessini',\n",
       " 'https://www.konga.com/product/sunlight-multi-purpose-washing-liquid-lemon-1l-4956326',\n",
       " 'https://www.konga.com/category/home-kitchen-602?size=31\"',\n",
       " 'https://www.konga.com/category/home-kitchen-602?brand=Sonik',\n",
       " 'https://www.konga.com/category/home-kitchen-602?size=M',\n",
       " 'https://www.konga.com/category/home-kitchen-602?brand=Bosch',\n",
       " 'https://www.konga.com/category/home-kitchen-602?brand=A&S',\n",
       " 'https://www.konga.com/brand/a&s',\n",
       " 'https://www.konga.com/category/home-kitchen-602?brand=Polystar',\n",
       " 'https://www.konga.com/product/manual-drinking-water-dispenser-pump-4420205',\n",
       " 'https://www.konga.com/content/about-us/company-overview',\n",
       " 'https://www.konga.com/category/home-kitchen-602?brand=Akai',\n",
       " 'https://www.konga.com/product/silvercrest-air-fryer-6l-2400w-5637946',\n",
       " 'https://www.konga.com/product/qasa-rechargeable-lantern-with-built-in-solar-panel-qltn-81b-4561419',\n",
       " 'https://www.konga.com/category/home-kitchen-602?brand=Exact',\n",
       " 'https://www.konga.com/product/tecno-spark-8-kg6-blue-6-5-2gb-64gb-16mp-8mp-ai-dual-camera-5000mah-5406692',\n",
       " 'https://www.konga.com/product/infinix-smart-hd-x612-2021-blue-32gb-2gb-infinix-headset-5066095',\n",
       " 'https://www.konga.com/product/qasa-18-inch-rechargeable-standing-fan-remote-led-light-and-usb-port-5069202',\n",
       " 'https://www.konga.com/product/kenwood-professional-7-speed-hand-stick-mixer-4591244',\n",
       " 'https://www.konga.com/stores',\n",
       " 'https://www.konga.com/category/home-kitchen-602?open_filter=yes',\n",
       " 'https://www.konga.com//itunes.apple.com/us/app/konga/id880918394?ls=1&mt=8',\n",
       " 'https://www.konga.com/category/home-kitchen-602?open_sort=yes',\n",
       " 'https://www.konga.com/category/home-kitchen-602?size=XL',\n",
       " 'https://www.konga.com/category/home-kitchen-602?brand=Bedding Collection',\n",
       " 'https://www.konga.com/category/home-kitchen-602?brand=Kinelco',\n",
       " 'https://www.konga.com/brand/hp',\n",
       " 'https://www.konga.com/category/home-kitchen-602?brand=Vitafoam',\n",
       " 'https://www.konga.com/merchant/172060',\n",
       " 'https://www.konga.com/product/automatic-rechargeable-water-dispenser-pump-4769358',\n",
       " 'https://www.konga.com/category/home-kitchen-602?color=Not Applicable',\n",
       " 'https://www.konga.com/category/home-kitchen-602?brand=Lontor',\n",
       " 'https://www.konga.com/merchant/6025',\n",
       " 'https://www.konga.com/merchant/176208',\n",
       " 'https://www.konga.com/category/home-kitchen-602?brand=LG',\n",
       " 'https://www.konga.com/category/home-kitchen-602?brand=Nikkysavy',\n",
       " 'https://www.konga.com/category/home-kitchen-602?size=11',\n",
       " 'https://www.konga.com/product/stainless-steel-napkin-serviette-holder-2pcs-5335513',\n",
       " 'https://www.konga.com/product/ox-18-standing-fan-100-copper-coil-5629820',\n",
       " 'https://www.konga.com/category/home-kitchen-602?brand=Unique',\n",
       " 'https://www.konga.com/category/home-kitchen-602?brand=Havells',\n",
       " 'https://www.konga.com/category/home-kitchen-602?brand=QASA',\n",
       " 'https://www.konga.com/product/mini-sewing-machine-with-foot-pedal-electric-and-battery-operated-5375621',\n",
       " 'https://www.konga.com/product/stainless-pots-set-of-6-4165686',\n",
       " 'https://www.konga.com/product/itec-itec-18-rechargeable-stand-fan-5024887',\n",
       " 'https://www.konga.com/category/home-kitchen-602?brand=Swan',\n",
       " 'https://www.konga.com/help/contact-us',\n",
       " 'https://www.konga.com/merchant/148257',\n",
       " 'https://www.konga.com/category/home-kitchen-602?',\n",
       " 'https://www.konga.com/category/home-kitchen-602?size=12',\n",
       " 'https://www.konga.com/search?search=generator',\n",
       " 'https://www.konga.com/category/home-kitchen-602?color=White',\n",
       " 'https://www.konga.com/category/home-kitchen-602?color=Blue',\n",
       " 'https://www.konga.com/brand/fashion-front',\n",
       " 'https://www.konga.com/category/home-kitchen-602?special_price=₦5000 - ₦10000',\n",
       " 'https://www.konga.com/merchant/166423',\n",
       " 'https://www.konga.com/category/home-kitchen-602?color=Yellow',\n",
       " 'https://www.konga.com/product/3-litres-whistling-kettle-4477571',\n",
       " 'https://www.konga.com/category/other-categories-5971',\n",
       " 'https://www.konga.com/search?search=iphone',\n",
       " 'https://www.konga.com/product/foldable-table-and-chair-3534794',\n",
       " 'https://www.konga.com/category/home-kitchen-602?sort=sc',\n",
       " 'https://www.konga.com/cart/overview',\n",
       " 'https://www.konga.com/merchant/138510',\n",
       " 'https://www.konga.com/category/home-kitchen-602?is_free_shipping=1',\n",
       " 'https://www.konga.com/product/duravolt-16-rechargeable-standing-fan-with-lithium-battery-panel-and-bulbs-drf-2916l-5623987',\n",
       " 'https://www.konga.com/category/home-kitchen-602?mobile_menu=open',\n",
       " 'https://www.konga.com/category/home-kitchen-602?brand=Ox',\n",
       " 'https://www.konga.com/services',\n",
       " 'https://www.konga.com/product/flexible-door-bottom-sealing-strip-guard-and-dour-stopper-5537234',\n",
       " 'https://www.konga.com/category/home-kitchen-602?brand=Butterfly',\n",
       " 'https://www.konga.com/careers',\n",
       " 'https://www.konga.com/category/home-kitchen-602?brand=Master Chef',\n",
       " 'https://www.konga.com/help/bulk-purchase',\n",
       " 'https://www.konga.com/product/omo-hand-washing-powder-2kg-5003041',\n",
       " 'https://www.konga.com/product/ox-us-26-industrial-standing-water-ac-mist-fan-5399580',\n",
       " 'https://www.konga.com/category/home-kitchen-602?brand=ART',\n",
       " 'https://www.konga.com/category/home-kitchen-602?special_price=₦2000 - ₦5000',\n",
       " 'https://www.konga.com/account/wallet',\n",
       " 'https://www.konga.com/product/omo-protect-handwashing-detergent-powder-900g-5300045',\n",
       " 'https://www.konga.com/category/home-kitchen-602?special_price=Under ₦2000',\n",
       " 'https://www.konga.com/category/home-kitchen-602?brand=Handys',\n",
       " 'https://www.konga.com/merchant/190584',\n",
       " 'https://www.konga.com/help/sell-on-konga',\n",
       " 'https://www.konga.com/category/home-kitchen-602?color=Green',\n",
       " 'https://www.konga.com/category/home-kitchen-602?brand=Binatone',\n",
       " 'https://www.konga.com/category/home-kitchen-602?special_price=₦20000 - ₦40000',\n",
       " 'https://www.konga.com/product/mouka-foam-crown-pillow-fiber-5604153',\n",
       " 'https://www.konga.com/merchant/86527',\n",
       " 'https://www.konga.com/category/home-kitchen-602?brand=Camry',\n",
       " 'https://www.konga.com/merchant/118566',\n",
       " 'https://www.konga.com/product/sunlight-multi-purpose-washing-liquid-lavender-1l-5138701',\n",
       " 'https://www.konga.com/category/home-kitchen-602?konga_fulfilment_type=CWK',\n",
       " 'https://www.konga.com/category/home-kitchen-602?is_pay_on_delivery=1',\n",
       " 'https://www.konga.com/merchant/143013',\n",
       " 'https://www.konga.com/category/home-kitchen-602?brand=SQ Professional',\n",
       " 'https://www.konga.com/merchant/173785',\n",
       " 'https://www.konga.com/help/delivery',\n",
       " 'https://www.konga.com/brand/sony',\n",
       " 'https://www.konga.com/category/home-kitchen-602?sort=c',\n",
       " 'https://www.konga.com/category/home-kitchen-602?open_filter=no',\n",
       " 'https://www.konga.com/merchant/111309',\n",
       " 'https://www.konga.com/merchant/171943',\n",
       " 'https://www.konga.com/product/sonik-sonik-rechargeable-blender-4502190',\n",
       " 'https://www.konga.com/product/infinix-32-hd-smart-android-television-5102735',\n",
       " 'https://www.konga.com/account/signup',\n",
       " 'https://www.konga.com/merchant/84185',\n",
       " 'https://www.konga.com/category/home-kitchen-602?special_price=Above ₦40000',\n",
       " 'https://www.konga.com/search?search=undefined',\n",
       " 'https://www.konga.com/category/konga-fashion-1259',\n",
       " 'https://www.konga.com/category/home-kitchen-602?brand=Ikea',\n",
       " 'https://www.konga.com/category/electronics-5261',\n",
       " 'https://www.konga.com/product/magic-mesh-anti-mosquito-door-net-curtain-5229446',\n",
       " 'https://www.konga.com/search?search=phones',\n",
       " 'https://www.konga.com/category/phones-tablets-5294',\n",
       " 'https://www.konga.com/category/home-kitchen-602?brand=Nima',\n",
       " 'https://www.konga.com/product/automatic-water-dispenser-4502473',\n",
       " 'https://www.konga.com/category/home-kitchen-602?brand=Century',\n",
       " 'https://www.konga.com/category/home-kitchen-602?brand=Rite-tek',\n",
       " 'https://www.konga.com/category/home-kitchen-602?brand=VAS Studio Art',\n",
       " 'https://www.konga.com/category/home-kitchen-602?brand=Panasonic',\n",
       " 'https://www.konga.com/category/home-kitchen-602?brand=SilverCrest',\n",
       " 'https://www.konga.com/product/qasa-rechargeable-lantern-with-inbuilt-solar-panel-qltn-81b-5597844',\n",
       " 'https://www.konga.com/product/high-back-lifting-arms-office-swivel-mesh-chair-4495373',\n",
       " 'https://www.konga.com/account/login',\n",
       " 'https://www.konga.com/category/home-kitchen-602?brand=Sokany',\n",
       " 'https://www.konga.com/',\n",
       " 'https://www.konga.com/category/home-kitchen-602?color=Black',\n",
       " 'https://www.konga.com/category/home-kitchen-602?color=Brown',\n",
       " 'https://www.konga.com/merchant/137123',\n",
       " 'https://www.konga.com/merchant/149539',\n",
       " 'https://www.konga.com/merchant/148563',\n",
       " 'https://www.konga.com/category/home-kitchen-602?brand=Philips',\n",
       " 'https://www.konga.com/merchant/110316',\n",
       " 'https://www.konga.com/help/buyer-safety',\n",
       " 'https://www.konga.com/category/home-kitchen-602?brand=Crown Star',\n",
       " 'https://www.konga.com/category/home-kitchen-602?konga_fulfilment_type=SHQ',\n",
       " 'https://www.konga.com/product/shake-n-take-6-blades-rechargeable-smoothie-maker-and-blender-with-usb-charger-4834018',\n",
       " 'https://www.konga.com/category/home-kitchen-602?brand=Emel',\n",
       " 'https://www.konga.com/account/login?return_url=/category/home-kitchen-602',\n",
       " 'https://www.konga.com/product/hisense-12-5kg-7-5kg-wash-5kg-spin-twin-tub-washing-machine-wspa753-5668850',\n",
       " 'https://www.konga.com/category/home-kitchen-602?brand=Hisense',\n",
       " 'https://www.konga.com/category/home-kitchen-602?brand=Tower']"
      ]
     },
     "execution_count": 127,
     "metadata": {},
     "output_type": "execute_result"
    }
   ],
   "source": [
    "page_links"
   ]
  },
  {
   "cell_type": "code",
   "execution_count": 128,
   "id": "aef7e734",
   "metadata": {},
   "outputs": [],
   "source": [
    "def scrape_product_page(url, title_lookup = \"._24849_2Ymhg\", price_lookup = \"._678e4_e6nqh\"):\n",
    "    driver.get(url)\n",
    "    time.sleep(1.2)\n",
    "    body_el = driver.find_element(by=By.CSS_SELECTOR, value='body')\n",
    "    html_str = body_el.get_attribute('innerHTML')\n",
    "    html_obj = HTML(html=html_str)\n",
    "    product_title = html_obj.find(title_lookup, first=True).text\n",
    "    product_price = html_obj.find(price_lookup, first=True).text\n",
    "    return product_title, product_price"
   ]
  },
  {
   "cell_type": "code",
   "execution_count": 129,
   "id": "ea6cd7fb",
   "metadata": {},
   "outputs": [
    {
     "data": {
      "text/plain": [
       "'https://www.konga.com/product/glow-in-the-dark-luminous-wall-stickers-100-pack-5323370'"
      ]
     },
     "execution_count": 129,
     "metadata": {},
     "output_type": "execute_result"
    }
   ],
   "source": [
    "first_product_link = page_links[0]\n",
    "first_product_link"
   ]
  },
  {
   "cell_type": "code",
   "execution_count": 132,
   "id": "527f9ac0",
   "metadata": {},
   "outputs": [
    {
     "name": "stdout",
     "output_type": "stream",
     "text": [
      "https://www.konga.com/product/glow-in-the-dark-luminous-wall-stickers-100-pack-5323370 Glow In The Dark Luminous Wall Stickers -100/pack ₦1,450\n",
      "https://www.konga.com/product/asus-x415ja-bv192t-14-hd-intel-i-core-o-i3-1005g1-4gb-ram-1tb-hdd-win10-transparent-silver-5497503 Asus X415ja-bv192t - 14\" Hd -Intel® Core™ I3-1005g1 - 4GB RAM - 1TB HDD - Win10- Transparent Silver ₦220,000\n",
      "https://www.konga.com/product/polystar-polystar-20-industrial-fan-black-pv-20ndb-5097853 Polystar 20\" Industrial Fan - Black Pv-20ndb ₦38,800\n",
      "https://www.konga.com/product/shake-n-take-smoothie-blender-with-double-bottle-3647994 Shake 'n' Take Smoothie Blender with Double Bottle ₦5,450\n",
      "https://www.konga.com/product/tecno-camon-18-premier-ch9-67-256gb-8gb-dual-sim-polar-night-4750mah-5480394 Tecno Camon 18 Premier -CH9- 6'7\" - 256gb - 8gb - Dual Sim - Polar Night - 4750mah ₦180,200\n",
      "https://www.konga.com/product/nexus-18-stand-fan-nx-sf5400b-5493339 Nexus 18\" Stand Fan - Nx-sf5400b ₦10,460\n",
      "https://www.konga.com/product/table-top-two-burner-gas-cooker-multicolour-4415916 Table Top Two Burner Gas Cooker-Multicolour ₦8,500\n",
      "https://www.konga.com/product/lontor-5-mini-rechargeable-table-fan-with-led-light-5640186 Lontor 5\" Mini Rechargeable Table Fan With Led Light ₦4,800\n",
      "https://www.konga.com/product/qasa-1-8l-blender-and-grinder-qbl-18l40-3672556 QASA 1.8L Blender & Grinder - QBL-18L40 ₦10,700\n",
      "https://www.konga.com/product/century-power-deluxe-blender-8231-n-1-5l-5494088 Century Power Deluxe Blender 8231-n 1.5l ₦7,260\n",
      "https://www.konga.com/product/mosquito-killer-lamp-and-pest-catcher-5091633 Mosquito Killer Lamp And Pest Catcher ₦3,000\n",
      "https://www.konga.com/product/sunlight-spring-tropical-sensations-washing-powder-900g-double-pack-5003042 Sunlight Spring + Tropical Sensations Washing Powder 900g Double Pack ₦1,500\n",
      "https://www.konga.com/product/tap-water-filter-and-purifier-purple-4885508 Tap Water Filter And Purifier - Purple ₦900\n",
      "https://www.konga.com/product/sunlight-multi-purpose-washing-liquid-lemon-1l-4956326 Sunlight Multi-purpose Washing Liquid - Lemon -1L ₦550\n",
      "https://www.konga.com/product/manual-drinking-water-dispenser-pump-4420205 Manual Drinking Water Dispenser Pump ₦1,650\n",
      "https://www.konga.com/product/silvercrest-air-fryer-6l-2400w-5637946 SilverCrest Air Fryer - 6l - 2400w ₦29,750\n",
      "https://www.konga.com/product/qasa-rechargeable-lantern-with-built-in-solar-panel-qltn-81b-4561419 QASA Rechargeable Lantern With Built-In Solar Panel - QLTN-81B ₦2,580\n",
      "https://www.konga.com/product/infinix-smart-hd-x612-2021-blue-32gb-2gb-infinix-headset-5066095 Infinix Smart Hd-x612- 2021 - Blue 32gb /2gb + Infinix Headset ₦46,300\n",
      "https://www.konga.com/product/qasa-18-inch-rechargeable-standing-fan-remote-led-light-and-usb-port-5069202 QASA 18 -inch Rechargeable Standing Fan + Remote, LED Light & USB Port ₦34,850\n",
      "https://www.konga.com/product/kenwood-professional-7-speed-hand-stick-mixer-4591244 Kenwood Professional 7 Speed Hand/stick Mixer ₦4,700\n",
      "https://www.konga.com/product/automatic-rechargeable-water-dispenser-pump-4769358 Automatic Rechargeable Water Dispenser Pump ₦2,800\n",
      "https://www.konga.com/product/stainless-steel-napkin-serviette-holder-2pcs-5335513 Stainless Steel Napkin Serviette Holder - 2pcs ₦5,700\n",
      "https://www.konga.com/product/ox-18-standing-fan-100-copper-coil-5629820 Ox 18\" Standing Fan - 100% Copper Coil ₦10,700\n",
      "https://www.konga.com/product/mini-sewing-machine-with-foot-pedal-electric-and-battery-operated-5375621 Mini Sewing Machine With Foot Pedal - Electric & Battery Operated. ₦6,700\n",
      "https://www.konga.com/product/stainless-pots-set-of-6-4165686 Stainless Pots - Set Of 6 ₦12,800\n",
      "https://www.konga.com/product/itec-itec-18-rechargeable-stand-fan-5024887 iTEC Itec 18\" Rechargeable Stand Fan ₦28,100\n",
      "https://www.konga.com/product/3-litres-whistling-kettle-4477571 3 Litres Whistling Kettle ₦3,700\n",
      "https://www.konga.com/product/foldable-table-and-chair-3534794 Foldable Table & Chair ₦15,700\n",
      "https://www.konga.com/product/flexible-door-bottom-sealing-strip-guard-and-dour-stopper-5537234 Flexible Door Bottom Sealing Strip Guard And Dour Stopper ₦1,900\n",
      "https://www.konga.com/product/omo-hand-washing-powder-2kg-5003041 Omo Hand Washing Powder 2kg ₦1,800\n",
      "https://www.konga.com/product/ox-us-26-industrial-standing-water-ac-mist-fan-5399580 Ox Us 26\" Industrial Standing Water Ac/mist Fan ₦121,000\n",
      "https://www.konga.com/product/mouka-foam-crown-pillow-fiber-5604153 Mouka Foam Crown Pillow - Fiber ₦2,375\n",
      "https://www.konga.com/product/sonik-sonik-rechargeable-blender-4502190 Sonik Rechargeable Blender ₦3,400\n",
      "https://www.konga.com/product/infinix-32-hd-smart-android-television-5102735 Infinix 32' HD Smart Android Television ₦87,600\n",
      "https://www.konga.com/product/magic-mesh-anti-mosquito-door-net-curtain-5229446 Magic Mesh Anti -mosquito Door Net/curtain ₦1,880\n",
      "https://www.konga.com/product/automatic-water-dispenser-4502473 Automatic Water Dispenser ₦2,250\n",
      "https://www.konga.com/product/qasa-rechargeable-lantern-with-inbuilt-solar-panel-qltn-81b-5597844 QASA Rechargeable Lantern With Inbuilt Solar Panel - Qltn-81b ₦2,600\n",
      "https://www.konga.com/product/high-back-lifting-arms-office-swivel-mesh-chair-4495373 High Back Lifting Arms Office Swivel Mesh Chair ₦30,800\n",
      "https://www.konga.com/product/shake-n-take-6-blades-rechargeable-smoothie-maker-and-blender-with-usb-charger-4834018 Shake 'n' Take 6 Blades Rechargeable Smoothie Maker & Blender With Usb Charger ₦3,850\n",
      "https://www.konga.com/product/hisense-12-5kg-7-5kg-wash-5kg-spin-twin-tub-washing-machine-wspa753-5668850 Hisense 12.5Kg (7.5Kg Wash + 5Kg Spin) Twin Tub Washing Machine - WSPA753 ₦77,300\n"
     ]
    }
   ],
   "source": [
    "for link in page_links:\n",
    "    title, price = (None, None)\n",
    "    try:\n",
    "        title, price = scrape_product_page(link)\n",
    "    except:\n",
    "        pass\n",
    "    if title != None and price != None:\n",
    "        print(link, title, price)"
   ]
  },
  {
   "cell_type": "code",
   "execution_count": null,
   "id": "15fd4ffa",
   "metadata": {},
   "outputs": [],
   "source": []
  }
 ],
 "metadata": {
  "kernelspec": {
   "display_name": "Python 3 (ipykernel)",
   "language": "python",
   "name": "python3"
  },
  "language_info": {
   "codemirror_mode": {
    "name": "ipython",
    "version": 3
   },
   "file_extension": ".py",
   "mimetype": "text/x-python",
   "name": "python",
   "nbconvert_exporter": "python",
   "pygments_lexer": "ipython3",
   "version": "3.10.1"
  }
 },
 "nbformat": 4,
 "nbformat_minor": 5
}
