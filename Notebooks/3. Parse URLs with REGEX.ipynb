{
 "cells": [
  {
   "cell_type": "code",
   "execution_count": 1,
   "id": "817c908e",
   "metadata": {},
   "outputs": [],
   "source": [
    "import re\n",
    "import requests\n",
    "import time\n",
    "from requests_html import HTML\n",
    "from selenium import webdriver\n",
    "from selenium.webdriver.chrome.options import Options\n",
    "from selenium.webdriver.common.by import By"
   ]
  },
  {
   "cell_type": "code",
   "execution_count": 2,
   "id": "f30c235f",
   "metadata": {},
   "outputs": [],
   "source": [
    "options =  Options()\n",
    "options.add_argument('--headless')\n",
    "\n",
    "driver = webdriver.Chrome(options=options)"
   ]
  },
  {
   "cell_type": "code",
   "execution_count": 3,
   "id": "f8461785",
   "metadata": {},
   "outputs": [],
   "source": [
    "categories = [\n",
    "    'https://www.amazon.com/gp/bestsellers/baby-products',\n",
    "    'https://www.konga.com/category/phones-tablets-5294',\n",
    "    'https://www.konga.com/category/home-kitchen-602'\n",
    "]"
   ]
  },
  {
   "cell_type": "code",
   "execution_count": 4,
   "id": "9b6d0032",
   "metadata": {},
   "outputs": [
    {
     "data": {
      "text/plain": [
       "['https://www.amazon.com/gp/bestsellers/baby-products',\n",
       " 'https://www.konga.com/category/phones-tablets-5294',\n",
       " 'https://www.konga.com/category/home-kitchen-602']"
      ]
     },
     "execution_count": 4,
     "metadata": {},
     "output_type": "execute_result"
    }
   ],
   "source": [
    "categories"
   ]
  },
  {
   "cell_type": "code",
   "execution_count": 36,
   "id": "10f11eb0",
   "metadata": {},
   "outputs": [],
   "source": [
    "first_url = categories[1]"
   ]
  },
  {
   "cell_type": "code",
   "execution_count": 37,
   "id": "66160bea",
   "metadata": {},
   "outputs": [],
   "source": [
    "driver.get(first_url)"
   ]
  },
  {
   "cell_type": "code",
   "execution_count": 38,
   "id": "e2b36fd8",
   "metadata": {},
   "outputs": [],
   "source": [
    "body_el = driver.find_element(by=By.CSS_SELECTOR, value='body')\n",
    "html_str = body_el.get_attribute('innerHTML')"
   ]
  },
  {
   "cell_type": "code",
   "execution_count": 39,
   "id": "7e27c6cc",
   "metadata": {},
   "outputs": [],
   "source": [
    "html_obj = HTML(html=html_str)\n",
    "# print(html_obj.links)"
   ]
  },
  {
   "cell_type": "code",
   "execution_count": 40,
   "id": "cefe6697",
   "metadata": {},
   "outputs": [],
   "source": [
    "page_links = [f'https://www.konga.com{x}' for x in html_obj.links if x.startswith('/')]"
   ]
  },
  {
   "cell_type": "code",
   "execution_count": 51,
   "id": "a186e60c",
   "metadata": {},
   "outputs": [],
   "source": [
    "# page_links"
   ]
  },
  {
   "cell_type": "code",
   "execution_count": 42,
   "id": "aef7e734",
   "metadata": {},
   "outputs": [],
   "source": [
    "def scrape_product_page(url, title_lookup = \"._24849_2Ymhg\", price_lookup = \"._678e4_e6nqh\"):\n",
    "    driver.get(url)\n",
    "    time.sleep(1.2)\n",
    "    body_el = driver.find_element(by=By.CSS_SELECTOR, value='body')\n",
    "    html_str = body_el.get_attribute('innerHTML')\n",
    "    html_obj = HTML(html=html_str)\n",
    "    product_title = html_obj.find(title_lookup, first=True).text\n",
    "    product_price = html_obj.find(price_lookup, first=True).text\n",
    "    return product_title, product_price"
   ]
  },
  {
   "cell_type": "code",
   "execution_count": null,
   "id": "ea6cd7fb",
   "metadata": {},
   "outputs": [],
   "source": []
  },
  {
   "cell_type": "code",
   "execution_count": null,
   "id": "527f9ac0",
   "metadata": {
    "scrolled": false
   },
   "outputs": [],
   "source": []
  },
  {
   "cell_type": "code",
   "execution_count": 43,
   "id": "15fd4ffa",
   "metadata": {},
   "outputs": [],
   "source": [
    "# my_regex_pattern = r\"https://www.konga.com/product/(?P<slug>[\\w-]+)-(?P<product_id>[\\w-]+)\"\n",
    "# my_url = 'https://www.konga.com/product/hisense-12-5kg-7-5kg-wash-5kg-spin-twin-tub-washing-machine-wspa753-5668850'"
   ]
  },
  {
   "cell_type": "code",
   "execution_count": 44,
   "id": "7f1da85e",
   "metadata": {},
   "outputs": [],
   "source": [
    "# regex = re.compile(my_regex_pattern)"
   ]
  },
  {
   "cell_type": "code",
   "execution_count": 45,
   "id": "5e4995d9",
   "metadata": {},
   "outputs": [],
   "source": [
    "# my_match = regex.match(my_url)\n",
    "# print(my_match)"
   ]
  },
  {
   "cell_type": "code",
   "execution_count": 46,
   "id": "9ce8709c",
   "metadata": {},
   "outputs": [],
   "source": [
    "# my_match['product_id']"
   ]
  },
  {
   "cell_type": "code",
   "execution_count": 47,
   "id": "de909954",
   "metadata": {},
   "outputs": [],
   "source": [
    "my_regex_pattern = r\"https://www.konga.com/product/(?P<slug>[\\w-]+)-(?P<product_id>[\\w-]+)\"\n",
    "\n",
    "def extract_product_id_from_url(url):\n",
    "    product_id = None\n",
    "    regex = re.compile(my_regex_pattern)\n",
    "    match = regex.match(url)\n",
    "    if match != None:\n",
    "        try:\n",
    "            product_id = match['product_id']\n",
    "        except:\n",
    "            pass\n",
    "    return product_id\n",
    "            "
   ]
  },
  {
   "cell_type": "code",
   "execution_count": null,
   "id": "c4aae89f",
   "metadata": {},
   "outputs": [],
   "source": []
  },
  {
   "cell_type": "code",
   "execution_count": 48,
   "id": "959eb715",
   "metadata": {},
   "outputs": [],
   "source": [
    "def clean_page_links(page_links=[]):\n",
    "    final_page_links = []\n",
    "    for url in page_links:\n",
    "        product_id = extract_product_id_from_url(url)\n",
    "        if product_id != None:\n",
    "            final_page_links.append({\"url\":url, \"product_id\": product_id})\n",
    "    return final_page_links\n",
    "\n",
    "cleaned_links = clean_page_links(page_links)"
   ]
  },
  {
   "cell_type": "code",
   "execution_count": 55,
   "id": "a2f51bd4",
   "metadata": {},
   "outputs": [
    {
     "data": {
      "text/plain": [
       "47"
      ]
     },
     "execution_count": 55,
     "metadata": {},
     "output_type": "execute_result"
    }
   ],
   "source": [
    "len(page_links) #== len(cleaned_links)"
   ]
  },
  {
   "cell_type": "code",
   "execution_count": 56,
   "id": "1f2a8a74",
   "metadata": {},
   "outputs": [
    {
     "data": {
      "text/plain": [
       "5"
      ]
     },
     "execution_count": 56,
     "metadata": {},
     "output_type": "execute_result"
    }
   ],
   "source": [
    "len(cleaned_links)"
   ]
  },
  {
   "cell_type": "code",
   "execution_count": 59,
   "id": "1e95c4d9",
   "metadata": {},
   "outputs": [],
   "source": [
    "def perform_scrape(cleaned_items = []):\n",
    "    data_extracted = []\n",
    "    for obj in cleaned_items:\n",
    "        link = obj['url']\n",
    "        product_id = obj['product_id']\n",
    "        title, price = (None, None)\n",
    "        try:\n",
    "            title, price = scrape_product_page(link)\n",
    "        except:\n",
    "            pass\n",
    "        if title != None and price != None:\n",
    "            print(link, title, price)\n",
    "        product_data = {\n",
    "            'url':link,\n",
    "            'product_id':product_id,\n",
    "            'title':title,\n",
    "            'price':price\n",
    "        }  \n",
    "        data_extracted.append(product_data)\n",
    "    return data_extracted"
   ]
  },
  {
   "cell_type": "code",
   "execution_count": 61,
   "id": "3ab98bdd",
   "metadata": {},
   "outputs": [
    {
     "name": "stdout",
     "output_type": "stream",
     "text": [
      "https://www.konga.com/product/infinix-smart-hd-x612-2021-blue-32gb-2gb-infinix-headset-5066095 Infinix Smart Hd-x612- 2021 - Blue 32gb /2gb + Infinix Headset ₦46,300\n",
      "https://www.konga.com/product/tecno-phantom-x-ac8-256-8gb-branded-bag-monet-summer-6-7inch-4700mah-50mp-13mp-8m-super-amoled-5314645 Tecno Phantom X (ac8) 256+8gb + Branded Bag - Monet Summer- 6.7inch -4700mah - 50mp+13mp+8m Super Amoled ₦240,000\n",
      "https://www.konga.com/product/asus-x415ja-bv192t-14-hd-intel-i-core-o-i3-1005g1-4gb-ram-1tb-hdd-win10-transparent-silver-5497503 Asus X415ja-bv192t - 14\" Hd -Intel® Core™ I3-1005g1 - 4GB RAM - 1TB HDD - Win10- Transparent Silver ₦220,000\n",
      "https://www.konga.com/product/infinix-32-hd-smart-android-television-5102735 Infinix 32' HD Smart Android Television ₦87,600\n",
      "https://www.konga.com/product/tecno-camon-18-premier-ch9-67-256gb-8gb-dual-sim-polar-night-4750mah-5480394 Tecno Camon 18 Premier -CH9- 6'7\" - 256gb - 8gb - Dual Sim - Polar Night - 4750mah ₦180,200\n"
     ]
    }
   ],
   "source": [
    "extracted_data = perform_scrape(cleaned_items = cleaned_links)"
   ]
  },
  {
   "cell_type": "code",
   "execution_count": 62,
   "id": "0b0a2deb",
   "metadata": {},
   "outputs": [
    {
     "name": "stdout",
     "output_type": "stream",
     "text": [
      "[{'url': 'https://www.konga.com/product/infinix-smart-hd-x612-2021-blue-32gb-2gb-infinix-headset-5066095', 'product_id': '5066095', 'title': 'Infinix Smart Hd-x612- 2021 - Blue 32gb /2gb + Infinix Headset', 'price': '₦46,300'}, {'url': 'https://www.konga.com/product/tecno-phantom-x-ac8-256-8gb-branded-bag-monet-summer-6-7inch-4700mah-50mp-13mp-8m-super-amoled-5314645', 'product_id': '5314645', 'title': 'Tecno Phantom X (ac8) 256+8gb + Branded Bag - Monet Summer- 6.7inch -4700mah - 50mp+13mp+8m Super Amoled', 'price': '₦240,000'}, {'url': 'https://www.konga.com/product/asus-x415ja-bv192t-14-hd-intel-i-core-o-i3-1005g1-4gb-ram-1tb-hdd-win10-transparent-silver-5497503', 'product_id': '5497503', 'title': 'Asus X415ja-bv192t - 14\" Hd -Intel® Core™ I3-1005g1 - 4GB RAM - 1TB HDD - Win10- Transparent Silver', 'price': '₦220,000'}, {'url': 'https://www.konga.com/product/infinix-32-hd-smart-android-television-5102735', 'product_id': '5102735', 'title': \"Infinix 32' HD Smart Android Television\", 'price': '₦87,600'}, {'url': 'https://www.konga.com/product/tecno-camon-18-premier-ch9-67-256gb-8gb-dual-sim-polar-night-4750mah-5480394', 'product_id': '5480394', 'title': 'Tecno Camon 18 Premier -CH9- 6\\'7\" - 256gb - 8gb - Dual Sim - Polar Night - 4750mah', 'price': '₦180,200'}]\n"
     ]
    }
   ],
   "source": [
    "print(extracted_data)"
   ]
  },
  {
   "cell_type": "code",
   "execution_count": null,
   "id": "12a78d88",
   "metadata": {},
   "outputs": [],
   "source": []
  }
 ],
 "metadata": {
  "kernelspec": {
   "display_name": "Python 3 (ipykernel)",
   "language": "python",
   "name": "python3"
  },
  "language_info": {
   "codemirror_mode": {
    "name": "ipython",
    "version": 3
   },
   "file_extension": ".py",
   "mimetype": "text/x-python",
   "name": "python",
   "nbconvert_exporter": "python",
   "pygments_lexer": "ipython3",
   "version": "3.10.1"
  }
 },
 "nbformat": 4,
 "nbformat_minor": 5
}
